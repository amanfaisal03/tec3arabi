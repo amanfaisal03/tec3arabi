{
 "cells": [
  {
   "cell_type": "code",
   "execution_count": 1,
   "id": "c508e7bc",
   "metadata": {},
   "outputs": [],
   "source": [
    "import os\n",
    "from groq import Groq \n",
    "GROQ_API_KEY = os.environ.get(\"GROQ_API_KEY\", \"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\")\n",
    "\n",
    "if not GROQ_API_KEY:\n",
    "    raise ValueError(\"GROQ_API_KEY is missing! Make sure it's set in environment variables.\")\n",
    "\n",
    "client = Groq(api_key=GROQ_API_KEY) "
   ]
  },
  {
   "cell_type": "markdown",
   "id": "6026d2f8",
   "metadata": {},
   "source": [
    "Prompt Engineer (programmers)"
   ]
  },
  {
   "cell_type": "code",
   "execution_count": 2,
   "id": "926bde1f",
   "metadata": {},
   "outputs": [],
   "source": [
    "# Project: Website Homepage  \n",
    "# Technologies: React.js, CSS3, Node.js (backend if needed)  \n",
    "# Structure: Header with navigation menu, Image gallery section, Contact form section  \n",
    "# Functionalities: Responsive design, Form validation, Dynamic content loading  \n",
    "\n",
    "# non Functionalities : \n",
    "# mintanence \n",
    "# Notes: Use light color scheme, modern UI/UX design, optimize for fast loading\n"
   ]
  },
  {
   "cell_type": "code",
   "execution_count": 3,
   "id": "bccb2e51",
   "metadata": {},
   "outputs": [],
   "source": [
    "designer_prompt = \"\"\"\n",
    "You are a designer and want to create a web project or a specific feature. \n",
    "Describe your idea in the simplest way possible, without any technical knowledge required. Focus on:\n",
    "\n",
    "1. The look of the website or application (e.g., homepage, menu, buttons, specific colors).\n",
    "2. The functionalities you want (e.g., contact form, image gallery, user registration).\n",
    "3. Any notes or ideas about the feel or user experience (e.g., modern, simple, attractive).\n",
    "\n",
    "The system should convert this description into a detailed message for the developer including the following sections:\n",
    "\n",
    "- Project: Name of the project or page.\n",
    "- Technologies: Suggested technologies (note: technology choice may affect cost).\n",
    "- Structure: Website structure (Header, Sections, Footer, etc.).\n",
    "- Functionalities: Core functionalities that must be implemented.\n",
    "- Non-Functional Requirements: Non-functional requirements such as performance, maintenance time, scalability.\n",
    "- Notes: Any additional notes on design, colors, user experience, and best practices.\n",
    "\n",
    "The output should be clear, organized, and ready for the developer to understand and implement directly.\n",
    "\"\"\""
   ]
  },
  {
   "cell_type": "code",
   "execution_count": 4,
   "id": "1ad7e8f9",
   "metadata": {},
   "outputs": [
    {
     "name": "stdout",
     "output_type": "stream",
     "text": [
      "\n",
      "--- Message for Developer ---\n",
      "\n",
      "**Project Description:**\n",
      "I envision a web project that is modern, simple, and attractive. The homepage will have a clean layout with a prominent header, a hero section with a high-quality background image, and a menu that is easy to navigate. The color scheme will be primarily blue and white, with accents of green for call-to-action buttons. The website will have a contact form, an image gallery, and a user registration feature.\n",
      "\n",
      "The menu will be sticky, allowing users to access it from any part of the website. The image gallery will be responsive, allowing it to adapt to different screen sizes and devices. The contact form will be simple, with fields for name, email, and message. The user registration feature will require a username, email, and password, and will include a verification process via email.\n",
      "\n",
      "In terms of feel and user experience, I want the website to be intuitive, fast, and secure. It should be easy for users to find what they are looking for, and the design should guide them through the website in a logical and consistent way.\n",
      "\n",
      "**Converted Description for Developer:**\n",
      "\n",
      "### Project: Modern Web Portal\n",
      "\n",
      "### Technologies:\n",
      "- Frontend: React or Angular for a dynamic and responsive user interface.\n",
      "- Backend: Node.js with Express for server-side logic and API integration.\n",
      "- Database: MongoDB for storing user data and website content.\n",
      "- Hosting: Cloud hosting (e.g., AWS, Google Cloud) for scalability and reliability.\n",
      "\n",
      "### Structure:\n",
      "- **Header:** Sticky menu with navigation links to main sections of the website.\n",
      "- **Hero Section:** High-quality background image with a call-to-action button.\n",
      "- **About Section:** Brief introduction to the website's purpose and features.\n",
      "- **Gallery Section:** Responsive image gallery with thumbnails and lightbox viewing.\n",
      "- **Contact Section:** Simple contact form with name, email, and message fields.\n",
      "- **Footer:** Copyright information, links to social media, and a sitemap.\n",
      "\n",
      "### Functionalities:\n",
      "- **Contact Form:** Users can submit inquiries or messages.\n",
      "- **Image Gallery:** A collection of images that can be viewed in a lightbox.\n",
      "- **User Registration:** Users can create an account with username, email, and password, including email verification.\n",
      "\n",
      "### Non-Functional Requirements:\n",
      "- **Performance:** The website should load within 3 seconds on average internet speeds.\n",
      "- **Maintenance Time:** Regular updates and backups should be automated wherever possible.\n",
      "- **Scalability:** The website should be able to handle an increase in traffic without significant performance drops.\n",
      "\n",
      "### Notes:\n",
      "- **Design and Colors:** The website will feature a modern design with a predominately blue and white color scheme, and green accents for call-to-action buttons.\n",
      "- **User Experience:** The website should be intuitive, with clear navigation and minimal clutter. It should be fully responsive and accessible on all devices.\n",
      "- **Best Practices:** Follow W3C standards for accessibility and SEO best practices for search engine optimization.\n",
      "- **Security:** Implement HTTPS and ensure that user data is encrypted and protected against common web vulnerabilities.\n"
     ]
    }
   ],
   "source": [
    "designer_input = input(\"Enter your project description (as simple as you like): \")\n",
    "final_prompt = designer_prompt.format(designer_input=designer_input)\n",
    "response = client.chat.completions.create(\n",
    "    messages=[\n",
    "        {\"role\": \"system\", \"content\": \"You are a helpful assistant.\"},\n",
    "        {\"role\": \"user\", \"content\": final_prompt}\n",
    "    ],\n",
    "    model=\"llama-3.3-70b-versatile\"\n",
    ")\n",
    "\n",
    "print(\"\\n--- Message for Developer ---\\n\")\n",
    "print(response.choices[0].message.content)"
   ]
  },
  {
   "cell_type": "code",
   "execution_count": 6,
   "id": "aa368f80",
   "metadata": {},
   "outputs": [],
   "source": [
    "# import sys\n",
    "# print(sys.executable)\n"
   ]
  },
  {
   "cell_type": "code",
   "execution_count": null,
   "id": "70d7f09b",
   "metadata": {},
   "outputs": [
    {
     "name": "stdout",
     "output_type": "stream",
     "text": [
      "0.31.0\n",
      "2.11.7\n"
     ]
    }
   ],
   "source": [
    "# import groq\n",
    "# import pydantic\n",
    "# print(groq.__version__)\n",
    "# print(pydantic.__version__)\n"
   ]
  },
  {
   "cell_type": "code",
   "execution_count": null,
   "id": "32af0db8",
   "metadata": {},
   "outputs": [],
   "source": []
  }
 ],
 "metadata": {
  "kernelspec": {
   "display_name": "py312",
   "language": "python",
   "name": "python3"
  },
  "language_info": {
   "codemirror_mode": {
    "name": "ipython",
    "version": 3
   },
   "file_extension": ".py",
   "mimetype": "text/x-python",
   "name": "python",
   "nbconvert_exporter": "python",
   "pygments_lexer": "ipython3",
   "version": "3.12.11"
  }
 },
 "nbformat": 4,
 "nbformat_minor": 5
}
